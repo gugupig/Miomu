{
 "cells": [
  {
   "cell_type": "code",
   "execution_count": null,
   "id": "3cb329ed",
   "metadata": {},
   "outputs": [],
   "source": [
    "import json\n",
    "with open(r\"F:\\Miomu\\Miomu\\scripts\\script_dialogues_converted_3.json\", \"r\") as f:\n",
    "    script_for_test = json.load(f)"
   ]
  },
  {
   "cell_type": "markdown",
   "id": "33044781",
   "metadata": {},
   "source": [
    "# Examples"
   ]
  },
  {
   "cell_type": "code",
   "execution_count": null,
   "id": "9a39d266",
   "metadata": {},
   "outputs": [],
   "source": []
  }
 ],
 "metadata": {
  "kernelspec": {
   "display_name": "miomu",
   "language": "python",
   "name": "python3"
  },
  "language_info": {
   "name": "python",
   "version": "3.11.0"
  }
 },
 "nbformat": 4,
 "nbformat_minor": 5
}
